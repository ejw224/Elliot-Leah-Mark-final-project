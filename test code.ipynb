{
 "cells": [
  {
   "cell_type": "markdown",
   "metadata": {},
   "source": [
    "This is more or less a test to figure out how to create repositories, etc"
   ]
  },
  {
   "cell_type": "code",
   "execution_count": 2,
   "metadata": {},
   "outputs": [
    {
     "name": "stderr",
     "output_type": "stream",
     "text": [
      "\u001b[32m\u001b[1m  Activating\u001b[22m\u001b[39m project at `~/Desktop/fall 2023/cee 4750/final project/Elliot-Leah-Mark-final-project`\n"
     ]
    }
   ],
   "source": [
    "import Pkg\n",
    "Pkg.activate(\".\")\n",
    "Pkg.instantiate()"
   ]
  },
  {
   "cell_type": "code",
   "execution_count": 3,
   "metadata": {},
   "outputs": [
    {
     "name": "stderr",
     "output_type": "stream",
     "text": [
      "\u001b[32m\u001b[1m   Resolving\u001b[22m\u001b[39m package versions...\n"
     ]
    },
    {
     "name": "stderr",
     "output_type": "stream",
     "text": [
      "\u001b[32m\u001b[1m  No Changes\u001b[22m\u001b[39m to `~/Desktop/fall 2023/cee 4750/final project/Elliot-Leah-Mark-final-project/Project.toml`\n",
      "\u001b[32m\u001b[1m  No Changes\u001b[22m\u001b[39m to `~/Desktop/fall 2023/cee 4750/final project/Elliot-Leah-Mark-final-project/Manifest.toml`\n"
     ]
    }
   ],
   "source": [
    "Pkg.add(\"Plots\")\n",
    "using Plots # plotting\n",
    "Pkg.add(\"LinearAlgebra\")\n",
    "using LinearAlgebra"
   ]
  },
  {
   "cell_type": "markdown",
   "metadata": {},
   "source": [
    "Below starts the actual code. Steps as defined in project update."
   ]
  },
  {
   "cell_type": "markdown",
   "metadata": {},
   "source": [
    "## 0. cell matrices ##"
   ]
  },
  {
   "cell_type": "code",
   "execution_count": 7,
   "metadata": {},
   "outputs": [],
   "source": [
    "length_cell=300; #m, FIXME\n",
    "height_watershed_cells=10; #number of cells, FIXME\n",
    "width_watershed_cells=13; #number of cells, FIXME\n",
    "\n",
    "number_cells_total=height_watershed_cells*width_watershed_cells; #number of cells\n",
    "area_cell= length_cell^2; #m^2\n",
    "\n",
    "map_area=[]; #area coefficient of each cell, FIXME\n",
    "map_ag=[]; #ag coefficient of each cell, FIXME\n",
    "#curve numbers, from soil series -> hydraulic soil types -> weighted avg approximation based on crop type\n",
    "#perhaps ADJUST, FIXME\n",
    "map_CN=[];\n",
    "map_distance=[]; #distance to outlet, FEET, maybe automate, FIXME\n",
    "map_elevation=[]; #height above outlet, FEET, FIXME"
   ]
  },
  {
   "cell_type": "markdown",
   "metadata": {},
   "source": [
    "## 1. calculating manure and phosphorus ##"
   ]
  },
  {
   "cell_type": "code",
   "execution_count": 5,
   "metadata": {},
   "outputs": [],
   "source": [
    "depth_applied=.5; #inches, ADJUST\n",
    "depth_mixed=.5; #inches, ADJUST\n",
    "\n",
    "d_interacting= 0.5*depth_applied/depth_mixed*2.54/100; #m\n",
    "\n",
    "density_manure=63*16.0185; #kg/m^3\n",
    "\n",
    "#from Pagliari, 2014\n",
    "phosphorus_in_manure_amount=10.55 #g/kg\n",
    "inorg_fract=.695;"
   ]
  },
  {
   "cell_type": "markdown",
   "metadata": {},
   "source": [
    "## 2. calculating idealized storm ##"
   ]
  },
  {
   "cell_type": "code",
   "execution_count": 6,
   "metadata": {},
   "outputs": [],
   "source": [
    "precip_storm_total=25.4; #mm, to be tweaked\n",
    "duration_storm=60; #min, to be tweaked\n",
    "\n",
    "intensity_storm=precip_storm_total/duration_storm; #mm/min"
   ]
  },
  {
   "cell_type": "markdown",
   "metadata": {},
   "source": [
    "## 3. defining calculations for each cell ##"
   ]
  },
  {
   "cell_type": "code",
   "execution_count": null,
   "metadata": {},
   "outputs": [],
   "source": [
    "t_runoff_start_matrix=zeros(height_watershed, width_watershed); #minutes\n",
    "t_c_matrix=zeros(height_watershed, width_watershed); #minutes\n",
    "vol_matrix=zeros(height_watershed, width_watershed); #m^3\n",
    "C_matrix=zeros(height_watershed, width_watershed); #g/m^3\n",
    "\n",
    "rate_vol_outlet=1.566 *49.3/38.6*ones(1000); #m^3/sec, array per minute\n",
    "C_outlet=11.396*ones(1000); #mg/L, array per minute\n",
    "\n",
    "for i in height_watershed\n",
    "    for j in width_watershed\n",
    "        area_cell_inside=area_cell*map_area[i,j];\n",
    "        area_ag=area_cell*map_ag[i,j];\n",
    "        CN=map_cn[i,j];\n",
    "        distance=map_distance[i,j];\n",
    "        \n",
    "        S=25400/CN-254; #mm\n",
    "        Ia=0.2*s; #mm\n",
    "\n",
    "        depth_Q=(precip_storm_total-Ia)^2/(precip_storm_total-Ia+S); #mm\n",
    "        vol_Q=depth_Q*area_cell_inside/1000; #m^3\n",
    "        vol_Q_ag=vol_Q*area_ag/area_cell_inside;\n",
    "        vol_Q_ag_liters=vol_Q_ag*1000;\n",
    "\n",
    "        t_runoff_start=duration_storm*Ia/depth_Q; #min\n",
    "        rate_vol_Q=vol_Q/(duration_storm-t_runoff_start)/60; #m^3/sec\n",
    "\n",
    "        M_interacting_manure=d_interacting*density_manure*area_ag; #kg\n",
    "        M_runoff_ag=vol_Q*1000; #kg\n",
    "\n",
    "        M_interacting_inorg=M_interacting_manure*.733; #g\n",
    "        \n",
    "        M_dissolved_inorg=0; #g\n",
    "\n",
    "        #piecewise function built from plot in Pagliari, 2014\n",
    "        if 0<vol_Q_ag_liters/M_interacting_manure<=12.5\n",
    "            M_dissolved_inorg=((vol_Q_ag_liters/M_interacting_manure-1.7)/10.8*.44+.07)/100*M_interacting_inorg; #g\n",
    "        else if 12.5<vol_Q_ag_liters/M_interacting_manure <= 50.8\n",
    "            M_dissolved_inorg=((vol_Q_ag_liters/M_interacting_manure-12.5)/(50.8-12.5)*.46+.51)/100*M_interacting_inorg; #g\n",
    "        else if 50.8<vol_Q_ag_liters/M_interacting_manure\n",
    "            M_dissolved_inorg=((vol_Q_ag_liters/M_interacting_manure-50.8)/(101.7/50.8)*(0-.06)+.97)/100*M_interacting_inorg; #g\n",
    "        end\n",
    "\n",
    "        t_runoff_start_matrix[i,j]=t_runoff_start;\n",
    "        t_c_matrix[i,j]=0.0078*map_distance[i,j]^0.77/(map_elevation[i,j]/map_distance[i,j])^0.385; #minutes\n",
    "        vol_matrix[i,j]=vol_Q;\n",
    "        C_matrix[i,j]=M_dissolved_inorg/vol_Q; #g/m^3=mg/L\n",
    "        \n",
    "        for k=1:length(rate_vol_outlet)\n",
    "            if t_runoff_start+t_c_matrix[i,j]<i<t_runoff_start+duration_storm+t_c_matrix[i,j]\n",
    "                rate_vol_outlet[k] += rate_vol_Q;\n",
    "                C_outlet[k] += C_matrix[i,j]*rate_vol/rate_vol_outlet[k];\n",
    "            end\n",
    "        end\n",
    "        end\n",
    "    end\n",
    "end\n",
    "\n",
    "mass_total_ag=dot(vol_matrix, C_matrix);"
   ]
  }
 ],
 "metadata": {
  "kernelspec": {
   "display_name": "Julia 1.9.2",
   "language": "julia",
   "name": "julia-1.9"
  },
  "language_info": {
   "file_extension": ".jl",
   "mimetype": "application/julia",
   "name": "julia",
   "version": "1.9.2"
  }
 },
 "nbformat": 4,
 "nbformat_minor": 2
}

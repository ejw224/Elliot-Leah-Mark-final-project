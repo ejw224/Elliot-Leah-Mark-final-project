{
 "cells": [
  {
   "cell_type": "markdown",
   "metadata": {},
   "source": [
    "This is more or less a test to figure out how to create repositories, etc"
   ]
  },
  {
   "cell_type": "code",
   "execution_count": 2,
   "metadata": {},
   "outputs": [
    {
     "name": "stderr",
     "output_type": "stream",
     "text": [
      "\u001b[32m\u001b[1m  Activating\u001b[22m\u001b[39m project at `~/Desktop/fall 2023/cee 4750/final project/Elliot-Leah-Mark-final-project`\n"
     ]
    }
   ],
   "source": [
    "import Pkg\n",
    "Pkg.activate(\".\")\n",
    "Pkg.instantiate()"
   ]
  },
  {
   "cell_type": "code",
   "execution_count": 3,
   "metadata": {},
   "outputs": [
    {
     "name": "stderr",
     "output_type": "stream",
     "text": [
      "\u001b[32m\u001b[1m   Resolving\u001b[22m\u001b[39m package versions...\n"
     ]
    },
    {
     "name": "stderr",
     "output_type": "stream",
     "text": [
      "\u001b[32m\u001b[1m  No Changes\u001b[22m\u001b[39m to `~/Desktop/fall 2023/cee 4750/final project/Elliot-Leah-Mark-final-project/Project.toml`\n",
      "\u001b[32m\u001b[1m  No Changes\u001b[22m\u001b[39m to `~/Desktop/fall 2023/cee 4750/final project/Elliot-Leah-Mark-final-project/Manifest.toml`\n"
     ]
    }
   ],
   "source": [
    "Pkg.add(\"Plots\")\n",
    "using Plots # plotting"
   ]
  },
  {
   "cell_type": "markdown",
   "metadata": {},
   "source": [
    "Below starts the actual code. Steps as defined in project update."
   ]
  },
  {
   "cell_type": "markdown",
   "metadata": {},
   "source": [
    "## 0. cell matrices ##"
   ]
  },
  {
   "cell_type": "code",
   "execution_count": 7,
   "metadata": {},
   "outputs": [],
   "source": [
    "length_cell=300; #m, FIXME\n",
    "height_watershed_cells=10; #number of cells, FIXME\n",
    "width_watershed_cells=13; #number of cells, FIXME\n",
    "\n",
    "number_cells_total=height_watershed_cells*width_watershed_cells; #number of cells\n",
    "area_cell= length_cell^2; #m^2\n",
    "\n",
    "map_area=[]; #area coefficient of each cell, FIXME\n",
    "map_ag=[]; #ag coefficient of each cell, FIXME\n",
    "#curve numbers, from soil series -> hydraulic soil types -> weighted avg approximation based on crop type\n",
    "#perhaps ADJUST, FIXME\n",
    "map_CN=[];\n",
    "map_distance=[]; #distance to outlet, maybe automate, FIXME"
   ]
  },
  {
   "cell_type": "markdown",
   "metadata": {},
   "source": [
    "## 1. calculating manure and phosphorus ##"
   ]
  },
  {
   "cell_type": "code",
   "execution_count": 5,
   "metadata": {},
   "outputs": [],
   "source": [
    "depth_applied=.5; #inches, ADJUST\n",
    "depth_mixed=.5; #inches, ADJUST\n",
    "\n",
    "d_interacting= 0.5*depth_applied/depth_mixed*2.54/100; #m\n",
    "\n",
    "density_manure=63*16.0185; #kg/m^3\n",
    "\n",
    "#from Pagliari, 2014\n",
    "phosphorus_in_manure_amount=10.55 #g/kg\n",
    "inorg_fract=.695;"
   ]
  },
  {
   "cell_type": "markdown",
   "metadata": {},
   "source": [
    "## 2. calculating idealized storm ##"
   ]
  },
  {
   "cell_type": "code",
   "execution_count": 6,
   "metadata": {},
   "outputs": [],
   "source": [
    "precip_storm_total=25.4; #mm, to be tweaked\n",
    "duration_storm=60; #min, to be tweaked\n",
    "\n",
    "intensity_storm=precip_storm_total/duration_storm; #mm/min"
   ]
  },
  {
   "cell_type": "markdown",
   "metadata": {},
   "source": [
    "## 3. defining calculations for each cell ##"
   ]
  },
  {
   "cell_type": "code",
   "execution_count": null,
   "metadata": {},
   "outputs": [],
   "source": [
    "for i in height_watershed\n",
    "    for j in width_watershed\n",
    "        area_cell_inside=area_cell*map_area[i,j];\n",
    "        area_ag=area_cell*map_ag[i,j];\n",
    "        CN=map_cn[i,j];\n",
    "        distance=map_distance[i,j];\n",
    "        \n",
    "        S=25400/CN-254; #mm\n",
    "        Ia=0.2*s; #mm\n",
    "\n",
    "        depth_Q=(precip_storm_total-Ia)^2/(precip_storm_total-Ia+S);\n",
    "        vol_Q=depth_Q*area_cell_inside;\n",
    "        vol_Q_ag=vol_Q*area_ag/area_cell_inside;\n",
    "\n",
    "        t_runoff_start=duration_storm*Ia/depth_Q;\n",
    "        \n",
    "\n",
    "\n",
    "    end\n",
    "end\n"
   ]
  }
 ],
 "metadata": {
  "kernelspec": {
   "display_name": "Julia 1.9.2",
   "language": "julia",
   "name": "julia-1.9"
  },
  "language_info": {
   "file_extension": ".jl",
   "mimetype": "application/julia",
   "name": "julia",
   "version": "1.9.2"
  }
 },
 "nbformat": 4,
 "nbformat_minor": 2
}
